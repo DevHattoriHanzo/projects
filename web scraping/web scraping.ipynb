{
 "cells": [
  {
   "cell_type": "code",
   "execution_count": 39,
   "metadata": {},
   "outputs": [],
   "source": [
    "import requests\n",
    "from bs4 import BeautifulSoup\n",
    "import pandas as pd\n",
    "\n",
    "url = \"https://www.kabum.com.br/hardware/placa-de-video-vga?page_number=1&page_size=100&facet_filters=&sort=most_searched\"\n",
    "\n",
    "header = {\"user-agent\":\"Mozilla/5.0 (Windows NT 10.0; Win64; x64) AppleWebKit/537.36 (KHTML, like Gecko) Chrome/113.0.0.0 Safari/537.36\"}\n",
    "\n",
    "products_table = {\n",
    "    \"prod\": [],\n",
    "    \"price\": [],\n",
    "    \"img\": [],\n",
    "    \"tag\": [],\n",
    "    \"link\": []\n",
    "}\n",
    "\n",
    "def getInformations(url):\n",
    "    site = requests.get(url, headers=header)\n",
    "    soup = BeautifulSoup(site.content, 'html.parser')\n",
    "    produtos = soup.find_all(\"div\", class_=\"productCard\")\n",
    "\n",
    "    for produto in produtos:\n",
    "        prod = produto.find(\"span\", class_=\"nameCard\").get_text()\n",
    "        price = produto.find(\"span\", class_=\"priceCard\").get_text()\n",
    "        img = produto.find(\"img\", class_=\"imageCard\")['src']\n",
    "        tag = produto.find(\"img\", class_=\"imageCard\")['title']\n",
    "        link = produto.find(\"a\", class_=\"productLink\")['href']\n",
    "\n",
    "        price = float(price.replace(\".\",\"\").replace(\",\",\".\").replace(\"R$\\xa0\",\"\"))\n",
    "\n",
    "        products_table['prod'].append(prod)\n",
    "        products_table['price'].append(price)\n",
    "        products_table['img'].append(img)\n",
    "        products_table['tag'].append(tag)\n",
    "        products_table['link'].append(link)\n",
    "\n",
    "for i in range(1, 3):\n",
    "    getInformations(f\"https://www.kabum.com.br/hardware/placa-de-video-vga?page_number={str(i)}&page_size=100&facet_filters=&sort=most_searched\")\n",
    "\n",
    "df = pd.DataFrame(products_table)\n",
    "\n",
    "df.to_csv(\"lista.csv\", encoding=\"utf-8\", sep=\";\", index=False)\n",
    "# df.to_csv(\"lista.csv\", encoding=\"iso-8859-1\", sep=\";\", index=False)"
   ]
  }
 ],
 "metadata": {
  "kernelspec": {
   "display_name": "Python 3",
   "language": "python",
   "name": "python3"
  },
  "language_info": {
   "codemirror_mode": {
    "name": "ipython",
    "version": 3
   },
   "file_extension": ".py",
   "mimetype": "text/x-python",
   "name": "python",
   "nbconvert_exporter": "python",
   "pygments_lexer": "ipython3",
   "version": "3.11.3"
  },
  "orig_nbformat": 4
 },
 "nbformat": 4,
 "nbformat_minor": 2
}
