{
 "cells": [
  {
   "cell_type": "code",
   "execution_count": 27,
   "metadata": {},
   "outputs": [],
   "source": [
    "# objetivo da aula\n",
    "# coletar dados de um site\n",
    "# salvar no excel\n",
    "\n",
    "# técnica\n",
    "# webscraping = coleta de dados\n",
    "\n",
    "# objetivo\n",
    "# fazer análise estatística\n",
    "\n",
    "# linguagem \n",
    "# python\n",
    "\n",
    "# libs\n",
    "# requests = fazer quisições\n",
    "# pandas = análise de dados - pip install pandas\n",
    "# Beautifulsop - pip install beautifulsoup4\n"
   ]
  }
 ],
 "metadata": {
  "kernelspec": {
   "display_name": "Python 3",
   "language": "python",
   "name": "python3"
  },
  "language_info": {
   "codemirror_mode": {
    "name": "ipython",
    "version": 3
   },
   "file_extension": ".py",
   "mimetype": "text/x-python",
   "name": "python",
   "nbconvert_exporter": "python",
   "pygments_lexer": "ipython3",
   "version": "3.11.3"
  },
  "orig_nbformat": 4
 },
 "nbformat": 4,
 "nbformat_minor": 2
}
